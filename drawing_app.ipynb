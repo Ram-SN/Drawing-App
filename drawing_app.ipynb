{
 "cells": [
  {
   "cell_type": "code",
   "execution_count": 3,
   "metadata": {},
   "outputs": [],
   "source": [
    "import numpy as np\n",
    "import cv2\n",
    "\n",
    "\n",
    "\n",
    "\n",
    "\n",
    "\n",
    "\n"
   ]
  },
  {
   "cell_type": "code",
   "execution_count": 4,
   "metadata": {},
   "outputs": [],
   "source": [
    "# Global variables\n",
    "canvas = np.ones([500,500,3],'uint8')*255\n",
    "radius = 3\n",
    "color = (0,255,0)\n",
    "pressed = False"
   ]
  },
  {
   "cell_type": "code",
   "execution_count": 5,
   "metadata": {},
   "outputs": [],
   "source": [
    "# click callback\n",
    "def click(event, x, y, flags, param):\n",
    "\tglobal canvas, pressed\n",
    "\tif event == cv2.EVENT_LBUTTONDOWN:\n",
    "\t\tpressed = True\n",
    "\t\tcv2.circle(canvas,(x,y),radius,color,-1)\n",
    "\telif event == cv2.EVENT_MOUSEMOVE and pressed == True:\n",
    "\t\tcv2.circle(canvas,(x,y),radius,color,-1)\n",
    "\telif event == cv2.EVENT_LBUTTONUP:\n",
    "\t\tpressed = False"
   ]
  },
  {
   "cell_type": "code",
   "execution_count": 6,
   "metadata": {},
   "outputs": [],
   "source": [
    "# window initialization and callback assignment\n",
    "cv2.namedWindow(\"canvas\")\n",
    "cv2.setMouseCallback(\"canvas\", click)"
   ]
  },
  {
   "cell_type": "code",
   "execution_count": 7,
   "metadata": {},
   "outputs": [],
   "source": [
    "# Forever draw loop\n",
    "while True:\n",
    "\n",
    "\tcv2.imshow(\"canvas\",canvas)\n",
    "\n",
    "\t# key capture every 1ms\n",
    "\tch = cv2.waitKey(1)\n",
    "\tif ch & 0xFF == ord('q'):\n",
    "\t\tbreak\n",
    "\telif ch & 0xFF == ord('b'):\n",
    "\t\tcolor = (255,0,0)\n",
    "\telif ch & 0xFF == ord('g'):\n",
    "\t\tcolor = (0,255,0)\n",
    "\telif ch & 0xFF == ord('r'):\n",
    "\t\tcolor = (0,0,255)\n",
    "\n",
    "cv2.destroyAllWindows()"
   ]
  }
 ],
 "metadata": {
  "kernelspec": {
   "display_name": "Python 3",
   "language": "python",
   "name": "python3"
  },
  "language_info": {
   "codemirror_mode": {
    "name": "ipython",
    "version": 3
   },
   "file_extension": ".py",
   "mimetype": "text/x-python",
   "name": "python",
   "nbconvert_exporter": "python",
   "pygments_lexer": "ipython3",
   "version": "3.7.3"
  }
 },
 "nbformat": 4,
 "nbformat_minor": 2
}
